{
 "cells": [
  {
   "cell_type": "markdown",
   "id": "20500c62",
   "metadata": {},
   "source": [
    "# Задание\n",
    "В рамках этого задания мы будем создавать программу, которая получая на вход отзыв, будет предсказывать, является отзыв положительным или отрицательным. Делать мы будем это таким образом: мы возьмём некоторое число заранее размеченных как положительные или отрицательные отзывов, выделим те слова, которые встречаются только в положительных или только в отрицательных отзывах, и будем считать, каких слов в поступившем нам на проверку отзыве больше."
   ]
  },
  {
   "cell_type": "code",
   "execution_count": 1,
   "id": "9a11d4e2",
   "metadata": {},
   "outputs": [],
   "source": [
    "from pprint import pprint"
   ]
  },
  {
   "cell_type": "code",
   "execution_count": 96,
   "id": "4eae4a3d",
   "metadata": {},
   "outputs": [],
   "source": [
    "from bs4 import BeautifulSoup\n",
    "from fake_useragent import UserAgent\n",
    "import requests\n",
    "import random\n",
    "import re\n",
    "import pandas as pd"
   ]
  },
  {
   "cell_type": "code",
   "execution_count": 48,
   "id": "9043ae42",
   "metadata": {},
   "outputs": [],
   "source": [
    "from pymorphy2 import MorphAnalyzer\n",
    "morph = MorphAnalyzer()\n",
    "from collections import defaultdict\n",
    "import nltk"
   ]
  },
  {
   "cell_type": "code",
   "execution_count": 3,
   "id": "c5893d12",
   "metadata": {},
   "outputs": [],
   "source": [
    "from sklearn.metrics import accuracy_score"
   ]
  },
  {
   "cell_type": "markdown",
   "id": "0939f7b2",
   "metadata": {},
   "source": [
    "## Сбор данных\n",
    "Сначала нам надо скачать дату -- соберите как минимум 60 (30 положительных и 30 отрицательных) отзывов на похожие продукты (не надо мешать отзывы на отели с отзывами на ноутбуки) для составления \"тонального словаря\" (чем больше отзывов, тем лучше) и 10 отзывов для проверки качества. \n",
    "\n",
    "- 2 балла в случае сбора путём парсинга\n",
    "- 1 - если найдете уже готовые данные или просто закопипастите без парсинга"
   ]
  },
  {
   "cell_type": "code",
   "execution_count": 34,
   "id": "984124b8",
   "metadata": {},
   "outputs": [],
   "source": [
    "def comment_parser(com):\n",
    "    pattern = '\\<div class\\=\\\"body\\\" itemprop\\=\\\"text\\\"\\>.+?\\<\\/div\\>'\n",
    "    find = re.search(pattern, str(com))\n",
    "    if find != None:\n",
    "        text = find[0]\n",
    "        text = text.replace('<div class=\"body\" itemprop=\"text\">', '')\n",
    "        text = text.replace('</div>', '')\n",
    "    else:\n",
    "        text = ''\n",
    "    return text"
   ]
  },
  {
   "cell_type": "code",
   "execution_count": 30,
   "id": "0d5b618e",
   "metadata": {},
   "outputs": [],
   "source": [
    "# Создадим подключение и обкачаем страницы с отзывами\n",
    "\n",
    "def crawler(cur_link, tone):\n",
    "    ua = UserAgent(verify_ssl=False)\n",
    "    headers = {'User-Agent': ua.random}\n",
    "    session = requests.session()\n",
    "    \n",
    "    pages = []\n",
    "    dataset = pd.DataFrame(columns=['text', 'tone'])\n",
    "\n",
    "    response = session.get(cur_link, headers=headers)\n",
    "\n",
    "    # достанем ссылку на каждое аниме\n",
    "    # перейдём по ссылке и достанем каждый отзыв\n",
    "    page = response.text\n",
    "    soup = BeautifulSoup(page, 'html.parser')\n",
    "\n",
    "    # обходим все аниме на странице\n",
    "    for f in soup.find_all('article'):\n",
    "        new_anime = session.get(f['data-url'], headers=headers)\n",
    "        text = comment_parser(new_anime.text)\n",
    "        dataset = dataset.append({'text':text, 'tone':tone}, ignore_index=True)\n",
    "\n",
    "    return dataset"
   ]
  },
  {
   "cell_type": "code",
   "execution_count": 41,
   "id": "488f7b4d",
   "metadata": {},
   "outputs": [],
   "source": [
    "positive_pages = ['https://shikimori.one/animes/43608-kaguya-sama-wa-kokurasetai-ultra-romantic/reviews/positive',\n",
    "                  'https://shikimori.one/animes/z5114-fullmetal-alchemist-brotherhood/reviews/positive',\n",
    "                  'https://shikimori.one/animes/z9253-steins-gate/reviews/positive',\n",
    "                  'https://shikimori.one/animes/47778-kimetsu-no-yaiba-yuukaku-hen/reviews/positive',\n",
    "                  'https://shikimori.one/animes/50265-spy-x-family/reviews/positive',\n",
    "                  'https://shikimori.one/animes/15809-hataraku-maou-sama/reviews/positive',\n",
    "                  'https://shikimori.one/animes/z2001-tengen-toppa-gurren-lagann/reviews/positive',\n",
    "                  'https://shikimori.one/animes/z1535-death-note/reviews/positive',\n",
    "                  'https://shikimori.one/animes/23283-zankyou-no-terror/reviews/positive',\n",
    "                  'https://shikimori.one/animes/z13601-psycho-pass/reviews/positive'\n",
    "                 ]\n",
    "negative_pages = ['https://shikimori.one/animes/43608-kaguya-sama-wa-kokurasetai-ultra-romantic/reviews/negative', \n",
    "                  'https://shikimori.one/animes/z5114-fullmetal-alchemist-brotherhood/reviews/negative', \n",
    "                  'https://shikimori.one/animes/z9253-steins-gate/reviews/negative', \n",
    "                  'https://shikimori.one/animes/47778-kimetsu-no-yaiba-yuukaku-hen/reviews/negative', \n",
    "                  'https://shikimori.one/animes/50265-spy-x-family/reviews/negative',\n",
    "                  'https://shikimori.one/animes/15809-hataraku-maou-sama/reviews/negative',\n",
    "                  'https://shikimori.one/animes/z2001-tengen-toppa-gurren-lagann/reviews/negative',\n",
    "                  'https://shikimori.one/animes/z1535-death-note/reviews/negative',\n",
    "                  'https://shikimori.one/animes/23283-zankyou-no-terror/reviews/negative',\n",
    "                  'https://shikimori.one/animes/z13601-psycho-pass/reviews/negative'\n",
    "                 ]"
   ]
  },
  {
   "cell_type": "code",
   "execution_count": 42,
   "id": "f1648817",
   "metadata": {},
   "outputs": [],
   "source": [
    "data = pd.DataFrame(columns=['text', 'tone'])\n",
    "\n",
    "for page in positive_pages:\n",
    "    data = pd.concat([data, crawler(page, 0)], \n",
    "                     ignore_index=True)\n",
    "\n",
    "for page in negative_pages:\n",
    "    data = pd.concat([data, crawler(page, 1)], \n",
    "                     ignore_index=True)"
   ]
  },
  {
   "cell_type": "code",
   "execution_count": 43,
   "id": "0907fe99",
   "metadata": {},
   "outputs": [
    {
     "data": {
      "text/html": [
       "<div>\n",
       "<style scoped>\n",
       "    .dataframe tbody tr th:only-of-type {\n",
       "        vertical-align: middle;\n",
       "    }\n",
       "\n",
       "    .dataframe tbody tr th {\n",
       "        vertical-align: top;\n",
       "    }\n",
       "\n",
       "    .dataframe thead th {\n",
       "        text-align: right;\n",
       "    }\n",
       "</style>\n",
       "<table border=\"1\" class=\"dataframe\">\n",
       "  <thead>\n",
       "    <tr style=\"text-align: right;\">\n",
       "      <th></th>\n",
       "      <th>text</th>\n",
       "      <th>tone</th>\n",
       "    </tr>\n",
       "  </thead>\n",
       "  <tbody>\n",
       "    <tr>\n",
       "      <th>0</th>\n",
       "      <td>Ну вот мы и добрались до 3 сезона. В принципе ...</td>\n",
       "      <td>0</td>\n",
       "    </tr>\n",
       "    <tr>\n",
       "      <th>1</th>\n",
       "      <td>Не знаю, что на меня нашло, и почему я пишу на...</td>\n",
       "      <td>0</td>\n",
       "    </tr>\n",
       "    <tr>\n",
       "      <th>2</th>\n",
       "      <td>Сериал, начинавшийся в первом сезоне как прост...</td>\n",
       "      <td>0</td>\n",
       "    </tr>\n",
       "    <tr>\n",
       "      <th>3</th>\n",
       "      <td>Всё та же &lt;a href=\"https://shikimori.one/anime...</td>\n",
       "      <td>0</td>\n",
       "    </tr>\n",
       "    <tr>\n",
       "      <th>4</th>\n",
       "      <td>10/10 о боже как же это хорошо...&lt;br&gt;Ну а вооб...</td>\n",
       "      <td>0</td>\n",
       "    </tr>\n",
       "    <tr>\n",
       "      <th>...</th>\n",
       "      <td>...</td>\n",
       "      <td>...</td>\n",
       "    </tr>\n",
       "    <tr>\n",
       "      <th>131</th>\n",
       "      <td>Интересная идея, потрясающий город и хорошая а...</td>\n",
       "      <td>1</td>\n",
       "    </tr>\n",
       "    <tr>\n",
       "      <th>132</th>\n",
       "      <td>Очень классный киберпанк с налётом антиутопии....</td>\n",
       "      <td>1</td>\n",
       "    </tr>\n",
       "    <tr>\n",
       "      <th>133</th>\n",
       "      <td>Музыкальное сопровождение:5/10&lt;br&gt;Персонажи:3/...</td>\n",
       "      <td>1</td>\n",
       "    </tr>\n",
       "    <tr>\n",
       "      <th>134</th>\n",
       "      <td>Аниме с множественными дырами. Мир тотального ...</td>\n",
       "      <td>1</td>\n",
       "    </tr>\n",
       "    <tr>\n",
       "      <th>135</th>\n",
       "      <td>В аниме можно увидеть во всей красе систему, к...</td>\n",
       "      <td>1</td>\n",
       "    </tr>\n",
       "  </tbody>\n",
       "</table>\n",
       "<p>135 rows × 2 columns</p>\n",
       "</div>"
      ],
      "text/plain": [
       "                                                  text tone\n",
       "0    Ну вот мы и добрались до 3 сезона. В принципе ...    0\n",
       "1    Не знаю, что на меня нашло, и почему я пишу на...    0\n",
       "2    Сериал, начинавшийся в первом сезоне как прост...    0\n",
       "3    Всё та же <a href=\"https://shikimori.one/anime...    0\n",
       "4    10/10 о боже как же это хорошо...<br>Ну а вооб...    0\n",
       "..                                                 ...  ...\n",
       "131  Интересная идея, потрясающий город и хорошая а...    1\n",
       "132  Очень классный киберпанк с налётом антиутопии....    1\n",
       "133  Музыкальное сопровождение:5/10<br>Персонажи:3/...    1\n",
       "134  Аниме с множественными дырами. Мир тотального ...    1\n",
       "135  В аниме можно увидеть во всей красе систему, к...    1\n",
       "\n",
       "[135 rows x 2 columns]"
      ]
     },
     "execution_count": 43,
     "metadata": {},
     "output_type": "execute_result"
    }
   ],
   "source": [
    "# удалим пустые строки\n",
    "new_data = data[data['text'] != '']\n",
    "new_data"
   ]
  },
  {
   "cell_type": "markdown",
   "id": "8c112e78",
   "metadata": {},
   "source": [
    "## Препроцессинг\n",
    "Токенизируйте слова, приведите их к нижнему регистру и к начальной форме.\n",
    "\n",
    "- 1 балл за токенизацию\n",
    "- 1 балл за начальную форму"
   ]
  },
  {
   "cell_type": "code",
   "execution_count": 45,
   "id": "6017fa4e",
   "metadata": {},
   "outputs": [],
   "source": [
    "def tok_lem(text):\n",
    "    # очистка от тегов\n",
    "    text = re.sub('<.+?>', '', text)\n",
    "    \n",
    "    # токенизация и начальная форма\n",
    "    lemmas = ''\n",
    "    lem_list = []\n",
    "    for word in nltk.word_tokenize(text.lower()):\n",
    "        lem = morph.parse(word)[0].normal_form\n",
    "        lemmas += lem + ' '\n",
    "        lem_list.append(lem)\n",
    "    return lemmas, lem_list"
   ]
  },
  {
   "cell_type": "code",
   "execution_count": 54,
   "id": "bffa355d",
   "metadata": {},
   "outputs": [],
   "source": [
    "processed = []\n",
    "lem_processed = []\n",
    "\n",
    "lem_sets = defaultdict(int)\n",
    "for t in data['text']:\n",
    "    tok_lem_resp = tok_lem(t)\n",
    "    processed.append(tok_lem_resp[0])\n",
    "    lem_processed.append(tok_lem_resp[1])\n",
    "    for el in tok_lem_resp[1]:\n",
    "        lem_sets[el] += 1\n",
    "\n",
    "data['tokenized'] = processed\n",
    "data['lem_dict'] = lem_processed"
   ]
  },
  {
   "cell_type": "markdown",
   "id": "bf6ef5d1",
   "metadata": {},
   "source": [
    "## Изучение данных\n",
    "Составьте 2 множества - в одном будут слова, которые встречаются только в положительных отзывах, а в другом - встречающиеся только в отрицательных. Попробуйте поиграть с частотностями и исключить шум (к примеру, выбросить слова, встречающиеся 1-2 раза) (если у вас получились пустые множества, уберите фильтр по частотности или увеличьте выборку).\n",
    "- 2 балла"
   ]
  },
  {
   "cell_type": "code",
   "execution_count": 57,
   "id": "f995bc18",
   "metadata": {},
   "outputs": [
    {
     "name": "stdout",
     "output_type": "stream",
     "text": [
      "positive: 80\n",
      "negative: 56\n"
     ]
    }
   ],
   "source": [
    "print('positive: ' + str(len(data[data['tone']==0])))\n",
    "print('negative: ' + str(len(data[data['tone']==1])))"
   ]
  },
  {
   "cell_type": "code",
   "execution_count": 70,
   "id": "f988874c",
   "metadata": {},
   "outputs": [],
   "source": [
    "def grouper(df, i):\n",
    "    # достанем множество слов из как-то окрашеных отзывов\n",
    "    category_words = defaultdict(int)\n",
    "    \n",
    "    # сколько забираем на обучение\n",
    "    num = {0:40, 1:28}\n",
    "    \n",
    "    category = df.groupby('tone').get_group(i)['lem_dict'][:num[i]]\n",
    "    for c in category:\n",
    "        for word in c:\n",
    "            category_words[word] += 1\n",
    "    return category_words\n",
    "\n",
    "# это словари {слово:абсолютная частотность}\n",
    "# при этом используем только на части отзывов\n",
    "# остальные - тестовая выборка\n",
    "positive_words = grouper(data, 0) \n",
    "negative_words = grouper(data, 1) "
   ]
  },
  {
   "cell_type": "code",
   "execution_count": 89,
   "id": "b6a5ea74",
   "metadata": {},
   "outputs": [],
   "source": [
    "# конечные множества\n",
    "only_positive = defaultdict(int)\n",
    "only_negative = defaultdict(int)\n",
    "\n",
    "in_both = set(positive_words.keys()) & set(negative_words.keys())\n",
    "\n",
    "for word in positive_words.keys():\n",
    "    if positive_words[word] > 3 and word not in in_both:\n",
    "        only_positive[word] += positive_words[word]\n",
    "\n",
    "for word in negative_words.keys():\n",
    "    if negative_words[word] > 3 and word not in in_both:\n",
    "        only_negative[word] += negative_words[word]"
   ]
  },
  {
   "cell_type": "code",
   "execution_count": 90,
   "id": "7b8ade12",
   "metadata": {},
   "outputs": [
    {
     "name": "stdout",
     "output_type": "stream",
     "text": [
      "defaultdict(<class 'int'>,\n",
      "            {'1-й': 5,\n",
      "             '1.': 4,\n",
      "             '2003': 7,\n",
      "             'адаптация': 9,\n",
      "             'алхимик': 38,\n",
      "             'альтернативный': 6,\n",
      "             'близкий': 4,\n",
      "             'братство': 30,\n",
      "             'великолепный': 5,\n",
      "             'внешность': 5,\n",
      "             'врата': 5,\n",
      "             'вырасти': 4,\n",
      "             'гинтама': 8,\n",
      "             'девочка': 4,\n",
      "             'достойный': 4,\n",
      "             'ждать': 8,\n",
      "             'завоеватель': 5,\n",
      "             'идеал': 4,\n",
      "             'иметься': 4,\n",
      "             'каговать': 4,\n",
      "             'кандидат': 8,\n",
      "             'картина': 5,\n",
      "             'класс': 6,\n",
      "             'лаба': 4,\n",
      "             'лично': 7,\n",
      "             'материал': 4,\n",
      "             'минус': 8,\n",
      "             'мнение': 6,\n",
      "             'многие': 7,\n",
      "             'музыкальный': 5,\n",
      "             'найти': 4,\n",
      "             'нана': 6,\n",
      "             'нацумэ': 5,\n",
      "             'начинаться': 5,\n",
      "             'неожиданный': 4,\n",
      "             'озвучка': 5,\n",
      "             'окаба': 5,\n",
      "             'песня': 7,\n",
      "             'писать': 4,\n",
      "             'поворот': 4,\n",
      "             'полноценный': 5,\n",
      "             'поэтому': 8,\n",
      "             'прям': 5,\n",
      "             'рассказать': 4,\n",
      "             'сеттинг': 4,\n",
      "             'смерть': 7,\n",
      "             'собственный': 4,\n",
      "             'советовать': 4,\n",
      "             'стальной': 10,\n",
      "             'стиль': 9,\n",
      "             'таки': 4,\n",
      "             'тетрадка': 4,\n",
      "             'тетрадь': 13,\n",
      "             'титан': 6,\n",
      "             'турнир': 7,\n",
      "             'целое': 8,\n",
      "             'ценитель': 4,\n",
      "             'шамбал': 5,\n",
      "             'штейн': 6,\n",
      "             'эдвард': 6,\n",
      "             'элрик': 4,\n",
      "             'эндинга': 7,\n",
      "             '—': 6})\n"
     ]
    }
   ],
   "source": [
    "pprint(only_positive)"
   ]
  },
  {
   "cell_type": "code",
   "execution_count": 91,
   "id": "9c8c306b",
   "metadata": {},
   "outputs": [
    {
     "name": "stdout",
     "output_type": "stream",
     "text": [
      "defaultdict(<class 'int'>,\n",
      "            {'#': 6,\n",
      "             '*': 11,\n",
      "             'бездарный': 4,\n",
      "             'буквально': 5,\n",
      "             'видимо': 4,\n",
      "             'выполнять': 4,\n",
      "             'гз': 4,\n",
      "             'добрый': 7,\n",
      "             'женщина': 5,\n",
      "             'земля': 4,\n",
      "             'зеница': 5,\n",
      "             'иносукэ': 5,\n",
      "             'как-то': 5,\n",
      "             'клоунада': 4,\n",
      "             'логика': 4,\n",
      "             'мужской': 4,\n",
      "             'нету': 5,\n",
      "             'огонь': 8,\n",
      "             'попытаться': 4,\n",
      "             'простить': 5,\n",
      "             'прочитать': 4,\n",
      "             'работать': 4,\n",
      "             'равно': 4,\n",
      "             'разве': 4,\n",
      "             'рояль': 6,\n",
      "             'сатана': 5,\n",
      "             'сколько': 4,\n",
      "             'смешной': 5,\n",
      "             'способный': 4,\n",
      "             'сражение': 4,\n",
      "             'тупой': 4,\n",
      "             'тьма': 5,\n",
      "             'тэнген': 6,\n",
      "             'убивать': 4,\n",
      "             'фишка': 4,\n",
      "             'хаширо': 8,\n",
      "             'целый': 6,\n",
      "             'чтоб': 4,\n",
      "             'шпионский': 4,\n",
      "             'яд': 5})\n"
     ]
    }
   ],
   "source": [
    "pprint(only_negative)"
   ]
  },
  {
   "cell_type": "markdown",
   "id": "5e499930",
   "metadata": {},
   "source": [
    "## Определение тональности\n",
    "Создайте функцию, которая будет определять, положительный ли отзыв или отрицательный в зависимости от того, какие слова встретились в нём, и посчитайте качество при помощи accuracy\n",
    "- 1 балл - за коректно работающую функцию\n",
    "- 1 балл - за подсчёт accuracy"
   ]
  },
  {
   "cell_type": "code",
   "execution_count": 97,
   "id": "1121eda4",
   "metadata": {},
   "outputs": [],
   "source": [
    "def tone_detection(review, opw, onw):\n",
    "    # за каждое слово будем прибавлять его абсолютную\n",
    "    # частотность из opw / onw (словари слов только\n",
    "    # из положительных / отрицательных отзывов)\n",
    "    pos_score = 0\n",
    "    neg_score = 0\n",
    "    for word in review:\n",
    "        pos_score += opw[word]\n",
    "        neg_score += onw[word]\n",
    "    \n",
    "    if pos_score > neg_score:\n",
    "        return 0\n",
    "    elif neg_score > pos_score:\n",
    "        return 1\n",
    "    else:\n",
    "        # иначе 50% accuracy\n",
    "        return random.randint(0,1)"
   ]
  },
  {
   "cell_type": "code",
   "execution_count": 110,
   "id": "ccc22c42",
   "metadata": {},
   "outputs": [
    {
     "data": {
      "text/plain": [
       "0.5588235294117647"
      ]
     },
     "execution_count": 110,
     "metadata": {},
     "output_type": "execute_result"
    }
   ],
   "source": [
    "y_true = list(data['tone'][40:80])\n",
    "y_true.extend(list(data['tone'][108:]))\n",
    "\n",
    "y_pred = []\n",
    "for r in data['lem_dict'][40:80]:\n",
    "    y_pred.append(tone_detection(r, only_positive, only_negative))\n",
    "for r in data['lem_dict'][108:]:\n",
    "    y_pred.append(tone_detection(r, only_positive, only_negative))\n",
    "\n",
    "accuracy_score(y_true, y_pred)"
   ]
  },
  {
   "cell_type": "markdown",
   "id": "a9bc6632",
   "metadata": {},
   "source": [
    "## Рефлексия\n",
    "Предложите как минимум 2 способа улучшить эту программу с помощью добавления к ней любых мулек \n",
    "- 1 балл за описание словами\n",
    "- 2 балла - если реализуете хотя бы один способ"
   ]
  },
  {
   "cell_type": "markdown",
   "id": "41220f75",
   "metadata": {},
   "source": [
    "### Способы\n",
    "1. Убрать цифры и символы из учёта.\n",
    "2. Брать из каждого аниме одинаковое количество отзывов.\n",
    "3. Взять одинаковое количество положительных и отрицательных отзывов.\n",
    "4. Убрать именованные сущности.\n",
    "5. Придумать адекватный алгоритм для случаев, когда слов не нашлось (например, составить словарь потенциально положительных и отрицательных флагов."
   ]
  },
  {
   "cell_type": "code",
   "execution_count": 111,
   "id": "fd944da4",
   "metadata": {},
   "outputs": [],
   "source": [
    "# попробуем убрать цифры и символы\n",
    "\n",
    "only_positive = defaultdict(int)\n",
    "only_negative = defaultdict(int)\n",
    "\n",
    "in_both = set(positive_words.keys()) & set(negative_words.keys())\n",
    "\n",
    "for word in positive_words.keys():\n",
    "    if positive_words[word] > 3 and word not in in_both and word.isalpha():\n",
    "        only_positive[word] += positive_words[word]\n",
    "\n",
    "for word in negative_words.keys():\n",
    "    if negative_words[word] > 3 and word not in in_both and word.isalpha():\n",
    "        only_negative[word] += negative_words[word]"
   ]
  },
  {
   "cell_type": "code",
   "execution_count": 112,
   "id": "f4140714",
   "metadata": {},
   "outputs": [
    {
     "name": "stdout",
     "output_type": "stream",
     "text": [
      "defaultdict(<class 'int'>,\n",
      "            {'адаптация': 9,\n",
      "             'алхимик': 38,\n",
      "             'альтернативный': 6,\n",
      "             'близкий': 4,\n",
      "             'братство': 30,\n",
      "             'великолепный': 5,\n",
      "             'внешность': 5,\n",
      "             'врата': 5,\n",
      "             'вырасти': 4,\n",
      "             'гинтама': 8,\n",
      "             'девочка': 4,\n",
      "             'достойный': 4,\n",
      "             'ждать': 8,\n",
      "             'завоеватель': 5,\n",
      "             'идеал': 4,\n",
      "             'иметься': 4,\n",
      "             'каговать': 4,\n",
      "             'кандидат': 8,\n",
      "             'картина': 5,\n",
      "             'класс': 6,\n",
      "             'лаба': 4,\n",
      "             'лично': 7,\n",
      "             'материал': 4,\n",
      "             'минус': 8,\n",
      "             'мнение': 6,\n",
      "             'многие': 7,\n",
      "             'музыкальный': 5,\n",
      "             'найти': 4,\n",
      "             'нана': 6,\n",
      "             'нацумэ': 5,\n",
      "             'начинаться': 5,\n",
      "             'неожиданный': 4,\n",
      "             'озвучка': 5,\n",
      "             'окаба': 5,\n",
      "             'песня': 7,\n",
      "             'писать': 4,\n",
      "             'поворот': 4,\n",
      "             'полноценный': 5,\n",
      "             'поэтому': 8,\n",
      "             'прям': 5,\n",
      "             'рассказать': 4,\n",
      "             'сеттинг': 4,\n",
      "             'смерть': 7,\n",
      "             'собственный': 4,\n",
      "             'советовать': 4,\n",
      "             'стальной': 10,\n",
      "             'стиль': 9,\n",
      "             'таки': 4,\n",
      "             'тетрадка': 4,\n",
      "             'тетрадь': 13,\n",
      "             'титан': 6,\n",
      "             'турнир': 7,\n",
      "             'целое': 8,\n",
      "             'ценитель': 4,\n",
      "             'шамбал': 5,\n",
      "             'штейн': 6,\n",
      "             'эдвард': 6,\n",
      "             'элрик': 4,\n",
      "             'эндинга': 7})\n"
     ]
    }
   ],
   "source": [
    "pprint(only_positive)"
   ]
  },
  {
   "cell_type": "code",
   "execution_count": 113,
   "id": "ab175885",
   "metadata": {},
   "outputs": [
    {
     "name": "stdout",
     "output_type": "stream",
     "text": [
      "defaultdict(<class 'int'>,\n",
      "            {'бездарный': 4,\n",
      "             'буквально': 5,\n",
      "             'видимо': 4,\n",
      "             'выполнять': 4,\n",
      "             'гз': 4,\n",
      "             'добрый': 7,\n",
      "             'женщина': 5,\n",
      "             'земля': 4,\n",
      "             'зеница': 5,\n",
      "             'иносукэ': 5,\n",
      "             'клоунада': 4,\n",
      "             'логика': 4,\n",
      "             'мужской': 4,\n",
      "             'нету': 5,\n",
      "             'огонь': 8,\n",
      "             'попытаться': 4,\n",
      "             'простить': 5,\n",
      "             'прочитать': 4,\n",
      "             'работать': 4,\n",
      "             'равно': 4,\n",
      "             'разве': 4,\n",
      "             'рояль': 6,\n",
      "             'сатана': 5,\n",
      "             'сколько': 4,\n",
      "             'смешной': 5,\n",
      "             'способный': 4,\n",
      "             'сражение': 4,\n",
      "             'тупой': 4,\n",
      "             'тьма': 5,\n",
      "             'тэнген': 6,\n",
      "             'убивать': 4,\n",
      "             'фишка': 4,\n",
      "             'хаширо': 8,\n",
      "             'целый': 6,\n",
      "             'чтоб': 4,\n",
      "             'шпионский': 4,\n",
      "             'яд': 5})\n"
     ]
    }
   ],
   "source": [
    "pprint(only_negative)"
   ]
  },
  {
   "cell_type": "code",
   "execution_count": 114,
   "id": "89322267",
   "metadata": {},
   "outputs": [],
   "source": [
    "def tone_detection(review, opw, onw):\n",
    "    # за каждое слово будем прибавлять его абсолютную\n",
    "    # частотность из opw / onw (словари слов только\n",
    "    # из положительных / отрицательных отзывов)\n",
    "    pos_score = 0\n",
    "    neg_score = 0\n",
    "    for word in review:\n",
    "        pos_score += opw[word]\n",
    "        neg_score += onw[word]\n",
    "    \n",
    "    if pos_score > neg_score:\n",
    "        return 0\n",
    "    elif neg_score > pos_score:\n",
    "        return 1\n",
    "    else:\n",
    "        # иначе 50% accuracy\n",
    "        return random.randint(0,1)"
   ]
  },
  {
   "cell_type": "code",
   "execution_count": 115,
   "id": "30d9d8a1",
   "metadata": {},
   "outputs": [
    {
     "data": {
      "text/plain": [
       "0.6764705882352942"
      ]
     },
     "execution_count": 115,
     "metadata": {},
     "output_type": "execute_result"
    }
   ],
   "source": [
    "y_true = list(data['tone'][40:80])\n",
    "y_true.extend(list(data['tone'][108:]))\n",
    "\n",
    "y_pred = []\n",
    "for r in data['lem_dict'][40:80]:\n",
    "    y_pred.append(tone_detection(r, only_positive, only_negative))\n",
    "for r in data['lem_dict'][108:]:\n",
    "    y_pred.append(tone_detection(r, only_positive, only_negative))\n",
    "\n",
    "accuracy_score(y_true, y_pred)"
   ]
  },
  {
   "cell_type": "markdown",
   "id": "4e5a2903",
   "metadata": {},
   "source": [
    "Ура, стало лучше! Правда, это могло произойти из-за более удачной работы последней функции (random.randit)."
   ]
  }
 ],
 "metadata": {
  "kernelspec": {
   "display_name": "Python 3 (ipykernel)",
   "language": "python",
   "name": "python3"
  },
  "language_info": {
   "codemirror_mode": {
    "name": "ipython",
    "version": 3
   },
   "file_extension": ".py",
   "mimetype": "text/x-python",
   "name": "python",
   "nbconvert_exporter": "python",
   "pygments_lexer": "ipython3",
   "version": "3.8.9"
  }
 },
 "nbformat": 4,
 "nbformat_minor": 5
}
