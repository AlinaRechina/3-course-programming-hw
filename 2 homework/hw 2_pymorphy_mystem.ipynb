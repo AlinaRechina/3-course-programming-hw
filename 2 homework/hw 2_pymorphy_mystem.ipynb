{
 "cells": [
  {
   "cell_type": "markdown",
   "id": "1f7b4191",
   "metadata": {},
   "source": [
    "## Описание корпуса и стандарта разметки"
   ]
  },
  {
   "cell_type": "markdown",
   "id": "a1c195de",
   "metadata": {},
   "source": [
    "В качестве корпуса были взяты отрывки из \"Руслана и Людмилы\" А.С. Пушкина.\n",
    "\n",
    "#### Сложности этого текста для автоматической разметки:\n",
    "1. Не всегда привычный порядок слов (потому что стихи)\n",
    "2. Устаревшие грамматические формы (\"нетерпенья\", \"боле\", \"решетчату\", \"щипля\", \"объемлет\" и т.д.)\n",
    "3. Устаревшие слова / варианты слов (\"младые\", \"средь\", \"гридница\", \"брашна\")\n",
    "4. Формы с дефисом (\"старца-колдуна\", \"Владимир-солнце\", \"кто-то\", \"теперь-то\")\n",
    "5. Имена собственные, в основном нестандартные (Ратмир, Фарлаф, Рогдай, Руслан, Баян)\n",
    "6. Омонимия, связанная с отсутсвием ё (\"слез\", \"все\") \n",
    "7. Частеречная омонимия (\"то\", \"смущённый\", \"перлов\" и т.д.)\n",
    "\n",
    "\n",
    "#### Выбранный тагсет\n",
    "Пожалуй, я воспользуюсь тагсетом, предоставленным организаторами соревнования Dialog: \n",
    "- S существительные\n",
    "- A прилагательные \n",
    "- V глаголы, в том числе причастия и деепричастия \n",
    "- PR предлоги \n",
    "- CONJ союзы\n",
    "- PRO местоимения\n",
    "- ADV сборная категория, включающая прочие несклоняемые слова: наречия, вводные слова, частицы, междометия\n",
    "\n",
    "Местоимения (размечены как PRO), числительные (размечены как NUM), слова категории состояния (размечены как CAT), наречия и прилагательные в сравнительной степени (размечены как COMP) и составные предлоги и союзы так же будут исключены из оценки.\n",
    "\n",
    "Если форма с **дефисом** была разделена, то оценивалось соответствие тега **последней части** (той, которая после дефиса). В нашем стандарте все формы с дефисом остались слитны и получили единый тег."
   ]
  },
  {
   "cell_type": "code",
   "execution_count": 9,
   "id": "15bd3b93",
   "metadata": {},
   "outputs": [],
   "source": [
    "from pprint import pprint"
   ]
  },
  {
   "cell_type": "code",
   "execution_count": 59,
   "id": "3c9ce5c9",
   "metadata": {},
   "outputs": [],
   "source": [
    "raw_text = ''\n",
    "with open('pushkin.txt', 'r', encoding='utf-8') as raw_file:\n",
    "    raw_text = raw_file.read()\n",
    "\n",
    "# Как показала практика прошлого года, текст лучше скармливать\n",
    "# со знаками препинания. Но перенос строки мы всё же\n",
    "# заменим на пробел\n",
    "\n",
    "raw_text = raw_text.replace('\\n', ' ')"
   ]
  },
  {
   "cell_type": "code",
   "execution_count": 100,
   "id": "df2a2f00",
   "metadata": {},
   "outputs": [],
   "source": [
    "answers = []\n",
    "with open('pushkin POS.txt', 'r', encoding='utf-8') as answer_file:\n",
    "    words = answer_file.readlines()\n",
    "    for word in words:\n",
    "        answers.append(word.strip('\\n').split(' '))"
   ]
  },
  {
   "cell_type": "markdown",
   "id": "39e5bc19",
   "metadata": {},
   "source": [
    "## Разметить текст тремя POS-тэггерами + превести к стандартному виду"
   ]
  },
  {
   "cell_type": "markdown",
   "id": "d810fa86",
   "metadata": {},
   "source": [
    "### pymorphy"
   ]
  },
  {
   "cell_type": "code",
   "execution_count": 61,
   "id": "13f1e8ee",
   "metadata": {},
   "outputs": [],
   "source": [
    "import nltk\n",
    "from nltk.tokenize import word_tokenize\n",
    "\n",
    "# сначала лемматизируем\n",
    "\n",
    "tokenized = word_tokenize(raw_text)\n",
    "punct = '...,—;:'"
   ]
  },
  {
   "cell_type": "code",
   "execution_count": 74,
   "id": "77bbc5ab",
   "metadata": {},
   "outputs": [],
   "source": [
    "from pymorphy2 import MorphAnalyzer\n",
    "morph = MorphAnalyzer()\n",
    "\n",
    "# теперь частеречная разметка\n",
    "\n",
    "pymorphy_answer_raw = []\n",
    "\n",
    "for token in tokenized:\n",
    "    if token not in punct:\n",
    "        ama = morph.parse(token)[0].tag.POS\n",
    "        pymorphy_answer_raw.append([token, ama])"
   ]
  },
  {
   "cell_type": "code",
   "execution_count": 76,
   "id": "8e86c716",
   "metadata": {},
   "outputs": [],
   "source": [
    "# приведём разметку к единому стандарту\n",
    "\n",
    "pm_tags = {'NOUN':'S', 'ADJF':'A', 'PRCL':'ADV', \n",
    "           'VERB':'V', 'PRTF':'V', 'CONJ':'CONJ',\n",
    "           'PREP':'PR', 'GRND':'V', 'ADJS':'ADJ',\n",
    "           'NPRO':'PRO', 'NUMR':'NUM', 'COMP':'COMP',\n",
    "           'INTJ':'ADV', 'ADVB':'ADV', 'INFN':'V'}\n",
    "\n",
    "pymorphy_answer = []\n",
    "for par in pymorphy_answer_raw:\n",
    "    pymorphy_answer.append([par[0], pm_tags[par[1]]])"
   ]
  },
  {
   "cell_type": "markdown",
   "id": "e1fa16fb",
   "metadata": {},
   "source": [
    "### Mystem"
   ]
  },
  {
   "cell_type": "code",
   "execution_count": 13,
   "id": "2f92420a",
   "metadata": {},
   "outputs": [
    {
     "name": "stderr",
     "output_type": "stream",
     "text": [
      "Installing mystem to C:\\Users\\Алина/.local/bin\\mystem.exe from http://download.cdn.yandex.net/mystem/mystem-3.0-win7-32bit.zip\n"
     ]
    }
   ],
   "source": [
    "from pymystem3 import Mystem\n",
    "m = Mystem()"
   ]
  },
  {
   "cell_type": "code",
   "execution_count": 14,
   "id": "23496560",
   "metadata": {},
   "outputs": [],
   "source": [
    "ana = m.analyze(raw_text)"
   ]
  },
  {
   "cell_type": "code",
   "execution_count": 79,
   "id": "6027aea2",
   "metadata": {},
   "outputs": [],
   "source": [
    "mystem_answer_raw = []\n",
    "\n",
    "for an in ana:\n",
    "    if an.get('analysis') != None:\n",
    "        pos = an['analysis'][0]['gr'].split('=')[0].split(',')[0]\n",
    "        mystem_answer_raw.append([an['text'], pos])"
   ]
  },
  {
   "cell_type": "code",
   "execution_count": 82,
   "id": "bcf94bc3",
   "metadata": {},
   "outputs": [],
   "source": [
    "# приведём разметку к единому стандарту\n",
    "\n",
    "ms_tags = {'APRO':'PRO', 'SPRO':'PRO', \n",
    "           'ADVPRO':'PRO', 'PART':'ADV',\n",
    "           'INTJ':'ADV'}\n",
    "\n",
    "mystem_answer = []\n",
    "for mar in mystem_answer_raw:\n",
    "    mystem_answer.append([mar[0], ms_tags.get(mar[1], mar[1])])"
   ]
  },
  {
   "cell_type": "markdown",
   "id": "cfe4bf69",
   "metadata": {},
   "source": [
    "### spacy\n",
    "в другой тетрадке, т.к. jupyter notebook не запускал эту библиотеку, а google colab - mystem"
   ]
  },
  {
   "cell_type": "markdown",
   "id": "cdc4e0ea",
   "metadata": {},
   "source": [
    "## Оценка accuracy"
   ]
  },
  {
   "cell_type": "code",
   "execution_count": 101,
   "id": "38c966cf",
   "metadata": {},
   "outputs": [
    {
     "name": "stdout",
     "output_type": "stream",
     "text": [
      "223\n",
      "226\n",
      "223\n"
     ]
    }
   ],
   "source": [
    "print(len(pymorphy_answer))\n",
    "print(len(mystem_answer))\n",
    "print(len(answers))"
   ]
  },
  {
   "cell_type": "code",
   "execution_count": 108,
   "id": "d7741243",
   "metadata": {},
   "outputs": [],
   "source": [
    "out_tags = ['PRO', 'NUM', 'CAT', 'COMP'] # не учитываем"
   ]
  },
  {
   "cell_type": "code",
   "execution_count": 109,
   "id": "6f5932f9",
   "metadata": {},
   "outputs": [
    {
     "name": "stdout",
     "output_type": "stream",
     "text": [
      "Accuracy for pymorphy: \n",
      "0.923469387755102\n"
     ]
    }
   ],
   "source": [
    "pm_t_score = 0\n",
    "total = 0\n",
    "\n",
    "for i in range(0, 223):\n",
    "    if answers[i][1] not in out_tags:\n",
    "        total += 1\n",
    "        if answers[i][1] == pymorphy_answer[i][1]:\n",
    "             pm_t_score += 1\n",
    "\n",
    "print('Accuracy for pymorphy: ')\n",
    "print(str(pm_t_score/total))"
   ]
  },
  {
   "cell_type": "code",
   "execution_count": 112,
   "id": "35590c16",
   "metadata": {
    "scrolled": false
   },
   "outputs": [
    {
     "name": "stdout",
     "output_type": "stream",
     "text": [
      "Accuracy for mystem: \n",
      "0.9285714285714286\n"
     ]
    }
   ],
   "source": [
    "gap = 0\n",
    "ms_t_score = 0 # количество правильных\n",
    "\n",
    "for i, a in enumerate(answers):\n",
    "    # сверяем, что мы смотрим на одно и то же \n",
    "    # mystem разделил 3 формы с пробелами ()\n",
    "    if a[0] != mystem_answer[i+gap][0]:\n",
    "        gap += 1\n",
    "        \n",
    "    # сверяем сами теги\n",
    "    if a[1] not in out_tags:\n",
    "        if a[1] == mystem_answer[i+gap][1]:\n",
    "            ms_t_score += 1\n",
    "\n",
    "print('Accuracy for mystem: ')\n",
    "print(str(ms_t_score/total))"
   ]
  },
  {
   "cell_type": "markdown",
   "id": "20fc2dd8",
   "metadata": {},
   "source": [
    "Вывод: pymorphy и mystem справились примерно одинаково очень хорошо."
   ]
  }
 ],
 "metadata": {
  "kernelspec": {
   "display_name": "Python 3 (ipykernel)",
   "language": "python",
   "name": "python3"
  },
  "language_info": {
   "codemirror_mode": {
    "name": "ipython",
    "version": 3
   },
   "file_extension": ".py",
   "mimetype": "text/x-python",
   "name": "python",
   "nbconvert_exporter": "python",
   "pygments_lexer": "ipython3",
   "version": "3.8.9"
  }
 },
 "nbformat": 4,
 "nbformat_minor": 5
}
