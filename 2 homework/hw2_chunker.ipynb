{
 "cells": [
  {
   "cell_type": "markdown",
   "id": "5ce7c8b2",
   "metadata": {},
   "source": [
    "### Теория"
   ]
  },
  {
   "cell_type": "markdown",
   "id": "0247efa0",
   "metadata": {},
   "source": [
    "Возможные n-граммы (ориентируюсь на теги pymorphy*):\n",
    "- NOUN / NUMR + ошибок\n",
    "- не + что-то глагольное\n",
    "- PREP + конца\n",
    "\n",
    "(В прошлом дз анализировала отзывы на аниме)\n",
    "\n",
    "\\* Решила взять его, т.к. по тесту точность примерно та же, а для использования гораздо удобнее"
   ]
  },
  {
   "cell_type": "markdown",
   "id": "0572e850",
   "metadata": {},
   "source": [
    "### Препроцессинг"
   ]
  },
  {
   "cell_type": "code",
   "execution_count": 1,
   "id": "6ae9ecf8",
   "metadata": {},
   "outputs": [],
   "source": [
    "from pymorphy2 import MorphAnalyzer\n",
    "morph = MorphAnalyzer()\n",
    "import nltk\n",
    "from nltk.tokenize import word_tokenize"
   ]
  },
  {
   "cell_type": "code",
   "execution_count": 2,
   "id": "f269015f",
   "metadata": {},
   "outputs": [],
   "source": [
    "def parser(text):\n",
    "    tokenized = word_tokenize(text)\n",
    "    punct = '!.,\\n '\n",
    "    pymorphy_answer_raw = []\n",
    "\n",
    "    for token in tokenized:\n",
    "        if token not in punct:\n",
    "            ama = morph.parse(token)[0].tag.POS\n",
    "            pymorphy_answer_raw.append([token, ama])\n",
    "    \n",
    "    return pymorphy_answer_raw"
   ]
  },
  {
   "cell_type": "markdown",
   "id": "cd46dd44",
   "metadata": {},
   "source": [
    "### Собственно chunker"
   ]
  },
  {
   "cell_type": "code",
   "execution_count": 5,
   "id": "dea019ea",
   "metadata": {},
   "outputs": [],
   "source": [
    "from pprint import pprint"
   ]
  },
  {
   "cell_type": "code",
   "execution_count": 16,
   "id": "3c48b68b",
   "metadata": {},
   "outputs": [],
   "source": [
    "# на вход принимает текст вида \n",
    "# список из списков [словоформа, часть_речи]\n",
    "\n",
    "# возвращает все n-граммы в виде \n",
    "# списка списков слов\n",
    "\n",
    "def chunker(text):\n",
    "    ngrams = []\n",
    "    \n",
    "    for i, word in enumerate(text):\n",
    "        \n",
    "        # не + V / A\n",
    "        V = ['INFN', 'VERB', 'PRTF', 'PRTS', 'GRND']\n",
    "        if word[0].lower() == 'не':\n",
    "            if text[i+1][1] in V:\n",
    "                ngrams.append([text[i][0], text[i+1][0]])\n",
    "        \n",
    "        # S / NUM + ошибок\n",
    "        elif word[0] == 'ошибок':\n",
    "            if text[i][1] == 'NOUN' or text[i][1] == 'NUMR':\n",
    "                ngrams.append([text[i-1][0], text[i][0]])\n",
    "    \n",
    "        # PREP + конца\n",
    "        elif word[1] == 'PREP' and text[i+1][0] == 'конца':\n",
    "            ngrams.append([text[i][0], text[i+1][0]])\n",
    "    \n",
    "    \n",
    "    return ngrams"
   ]
  },
  {
   "cell_type": "code",
   "execution_count": 11,
   "id": "bcb5f1d6",
   "metadata": {},
   "outputs": [],
   "source": [
    "ready = parser('''Да в этом аниме было просто куча ошибок! Персонажи не продуманы, \n",
    "        сюжет не закручен, рисовка ни о чём. Не советую к просмотру. До\n",
    "        конца не досмотрел, но уверен, что ничего хорошего вы там не увидите.''')"
   ]
  },
  {
   "cell_type": "code",
   "execution_count": 17,
   "id": "ffcdf1f1",
   "metadata": {},
   "outputs": [
    {
     "name": "stdout",
     "output_type": "stream",
     "text": [
      "[['куча', 'ошибок'],\n",
      " ['не', 'продуманы'],\n",
      " ['не', 'закручен'],\n",
      " ['Не', 'советую'],\n",
      " ['До', 'конца'],\n",
      " ['не', 'досмотрел'],\n",
      " ['не', 'увидите']]\n"
     ]
    }
   ],
   "source": [
    "pprint(chunker(ready))"
   ]
  }
 ],
 "metadata": {
  "kernelspec": {
   "display_name": "Python 3 (ipykernel)",
   "language": "python",
   "name": "python3"
  },
  "language_info": {
   "codemirror_mode": {
    "name": "ipython",
    "version": 3
   },
   "file_extension": ".py",
   "mimetype": "text/x-python",
   "name": "python",
   "nbconvert_exporter": "python",
   "pygments_lexer": "ipython3",
   "version": "3.8.9"
  }
 },
 "nbformat": 4,
 "nbformat_minor": 5
}
